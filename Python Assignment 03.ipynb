{
 "cells": [
  {
   "cell_type": "code",
   "execution_count": 4,
   "id": "6a35bc57",
   "metadata": {},
   "outputs": [
    {
     "name": "stdout",
     "output_type": "stream",
     "text": [
      "Twinkle Twinkle Little Star,\n",
      "\t\t How I Wonder what you are!\n",
      "\t\t\t\t Up Above The World So High,\n",
      "\t\t\t\t Like A Diamond In The Sky.\n",
      "\n",
      "Twinkle Twinkle Little Star,\n",
      "\t\t How I Wonder what you are.\n"
     ]
    }
   ],
   "source": [
    "# WRITE A PYTHON PROGRAM TO PRINT THE FOLLOWING STRING IN A SPECIFIC FORMAT(SEE THE OUTPUT):\n",
    "print(\"Twinkle Twinkle Little Star,\");\n",
    "print(\"\\t\\t How I Wonder what you are!\");\n",
    "print(\"\\t\\t\\t\\t Up Above The World So High,\");\n",
    "print(\"\\t\\t\\t\\t Like A Diamond In The Sky.\\n\");\n",
    "print(\"Twinkle Twinkle Little Star,\");\n",
    "print(\"\\t\\t How I Wonder what you are.\");"
   ]
  },
  {
   "cell_type": "code",
   "execution_count": 5,
   "id": "c2d3d022",
   "metadata": {},
   "outputs": [
    {
     "name": "stdout",
     "output_type": "stream",
     "text": [
      "3.8.8 (default, Apr 13 2021, 15:08:03) [MSC v.1916 64 bit (AMD64)]\n"
     ]
    }
   ],
   "source": [
    "# WRITE A PYTHON PROGRAM TO GET THE PYTHON VERSION YOU ARE USING\n",
    "import sys\n",
    "print(sys.version);"
   ]
  },
  {
   "cell_type": "code",
   "execution_count": 6,
   "id": "9cf23671",
   "metadata": {},
   "outputs": [
    {
     "name": "stdout",
     "output_type": "stream",
     "text": [
      "2021-10-22 19:00:53\n"
     ]
    }
   ],
   "source": [
    "# WRITE A PYTHON PROGRAM TO DISPLAY THE CURRENT DATE AND TIME\n",
    "from datetime import datetime\n",
    "now = datetime.now()\n",
    "print (now.strftime(\"%Y-%m-%d %H:%M:%S\"));"
   ]
  },
  {
   "cell_type": "code",
   "execution_count": 7,
   "id": "ef8db9ef",
   "metadata": {},
   "outputs": [
    {
     "name": "stdout",
     "output_type": "stream",
     "text": [
      "Enter the radius: 3\n",
      "The Value Of Radius Is:  3\n",
      "The Value Of PI Is:  3.1415\n",
      "The Area Of A Circle Is:  28.2735\n"
     ]
    }
   ],
   "source": [
    "# WRITE A PYTHON PROGRAM WHICH ACCEPTS THE RADIUS OF A CIRCLEFROM THE USER AND COMPUTE THE AREA\n",
    "radius = int(input(\"Enter the radius: \"));\n",
    "pi = 3.1415;\n",
    "area = pi*radius*radius;\n",
    "print(\"The Value Of Radius Is: \", + radius);\n",
    "print(\"The Value Of PI Is: \", + pi);\n",
    "print(\"The Area Of A Circle Is: \", + area);"
   ]
  },
  {
   "cell_type": "code",
   "execution_count": 13,
   "id": "85ff8089",
   "metadata": {},
   "outputs": [
    {
     "name": "stdout",
     "output_type": "stream",
     "text": [
      "Enter Your First Name: Muhammad \n",
      "Enter Your Last Name:  Faizan \n",
      "The Student Full Name Is:  Faizan Muhammad \n"
     ]
    }
   ],
   "source": [
    "# WRITE A PYTHON PROGRAM WHICH ACCEPT THE USERS FIRST AND LAST NAME AND PRINT THEM IN REVERSE ORDER WITH THE SPACE BETWEEN THEM\n",
    "f_name = input(\"Enter Your First Name: \");\n",
    "l_name = input(\"Enter Your Last Name: \");\n",
    "std_name = l_name + f_name;\n",
    "print(\"The Student Full Name Is: \" + std_name);"
   ]
  },
  {
   "cell_type": "code",
   "execution_count": 19,
   "id": "c6b175bb",
   "metadata": {},
   "outputs": [
    {
     "name": "stdout",
     "output_type": "stream",
     "text": [
      "Enter Your First Number: 25\n",
      "Enter Your Second Number: 17\n",
      "The First Number Is:  25\n",
      "The Second Number Is:  17\n",
      "The Addition Of num1 And num2 Is: 42\n"
     ]
    }
   ],
   "source": [
    "# WRITE A PYTHON PROGRAM WHICH TAKES TWO INPUT FROM USER AND PRINT THEM ADDITION\n",
    "num1 = int(input(\"Enter Your First Number: \"));\n",
    "num2 = int(input(\"Enter Your Second Number: \"));\n",
    "addition = num1 + num2 ;\n",
    "print(\"The First Number Is: \", +num1);\n",
    "print(\"The Second Number Is: \", +num2);\n",
    "print(\"The Addition Of num1 And num2 Is:\", +addition);"
   ]
  },
  {
   "cell_type": "code",
   "execution_count": 22,
   "id": "ee9b8279",
   "metadata": {},
   "outputs": [
    {
     "name": "stdout",
     "output_type": "stream",
     "text": [
      "=====================================================\n",
      "                 STUDENT MARKSHEET                   \n",
      "=====================================================\n",
      "STUDENT NAME IS: MUHAMMAD FAIZAN\n",
      "FATHER NAME IS: MUHAMMAD ARIF\n",
      "STUDENT AGE IS: 20 YEARS\n",
      "STUDENT ROLL NO: JP12785\n",
      "INSTITUTION IS: ONLINE JAWAN PAKISTAN\n",
      "=====================================================\n",
      "Marks In English Is: 60\n",
      "Marks In Islamiat Is: 75\n",
      "Marks In Mathematics Is: 85\n",
      "Marks In Urdu Is: 70\n",
      "Marks In Science Is: 70\n",
      "THE TOTAL MARKS OBTAINED IS:  360 OUT OF 300\n",
      "THE PERCENTAGE STUDENT OBTAINED IS: 72.0 OUT OF 100%\n",
      "THE STUDENT GRADE IS: GRADE A\n",
      "=====================================================\n"
     ]
    }
   ],
   "source": [
    "# WRITE A PYTHON PROGRAM TO TAKE FIVE(5) INPUTS FROM USERS FOR DIFFERENT SUBJECT MARKS, TOTAL IT AND GENERATE MARKSHEET USING GRADES\n",
    "print('=====================================================');\n",
    "print('                 STUDENT MARKSHEET                   ');\n",
    "print('=====================================================');\n",
    "print('STUDENT NAME IS: MUHAMMAD FAIZAN');\n",
    "print('FATHER NAME IS: MUHAMMAD ARIF');\n",
    "print('STUDENT AGE IS: 20 YEARS');\n",
    "print('STUDENT ROLL NO: JP12785');\n",
    "print('INSTITUTION IS: ONLINE JAWAN PAKISTAN');\n",
    "print('=====================================================');\n",
    "english = int(input(\"Marks In English Is: \")); \n",
    "islamiat = int(input(\"Marks In Islamiat Is: \"));\n",
    "maths = int(input(\"Marks In Mathematics Is: \")); \n",
    "urdu = int(input(\"Marks In Urdu Is: \"));\n",
    "science = int(input(\"Marks In Science Is: \"));\n",
    "total = english + maths + islamiat + urdu + science;\n",
    "print('THE TOTAL MARKS OBTAINED IS: ', + total, 'OUT OF 300');\n",
    "percentage = ((total)/500)*100;\n",
    "print('THE PERCENTAGE STUDENT OBTAINED IS:', +percentage, \"OUT OF 100%\");\n",
    "if percentage < 100 and percentage > 80:\n",
    "    print(\"THE STUDENT GRADE IS: GRADE A+\");\n",
    "elif percentage < 80 and percentage > 70:\n",
    "    print(\"THE STUDENT GRADE IS: GRADE A\");\n",
    "elif percentage < 70 and percentage > 60:\n",
    "    print(\"THE STUDENT GRADE IS: GRADE B\");\n",
    "elif percentage < 60 and percentage > 50:\n",
    "    print(\"THE STUDENT GRADE IS: GRADE C\");\n",
    "elif percentage < 50 and percentage > 40:\n",
    "    print(\"THE STUDENT GRADE IS: GRADE A\");\n",
    "elif percentage < 40 and percentage > 0:\n",
    "    print(\"SORRY! YOU ARE FAIL\");\n",
    "else:\n",
    "    print('IDIOT!!!!! PLEASE ENTER THE APPROPRIATE PERCENTAGE');\n",
    "print('=====================================================');"
   ]
  },
  {
   "cell_type": "code",
   "execution_count": 31,
   "id": "0acabf40",
   "metadata": {},
   "outputs": [
    {
     "name": "stdout",
     "output_type": "stream",
     "text": [
      "Number You Want To Check Whether It Is Even Or Odd: 201\n",
      "The Number Is Odd\n"
     ]
    }
   ],
   "source": [
    "# WRITE A PYTHON PROGRAM WHICH TAKE INPUT FROM USER AND IDENTIFY THAT THE GIVEN INPUT IS EVEN OR ODD.\n",
    "number = int(input(\"Number You Want To Check Whether It Is Even Or Odd: \"));\n",
    "if (number % 2) == 0:\n",
    "    print(\"The Number Is Even\");\n",
    "elif (number % 2) != 0:\n",
    "    print(\"The Number Is Odd\");"
   ]
  },
  {
   "cell_type": "code",
   "execution_count": 36,
   "id": "33688aec",
   "metadata": {},
   "outputs": [
    {
     "name": "stdout",
     "output_type": "stream",
     "text": [
      "The Length Of An Array(fruits) Is:  11\n"
     ]
    }
   ],
   "source": [
    "# WRITE A PYTHON PROGRAM WHICH PRINT THE LENGTH OF A LIST.\n",
    "fruits = [\"Apple\" , \"Mango\" , \"Banana\" , \"Grapes\" , \"Guava\" , \"Melon\" , \"WaterMelon\" , \"Papaya\" , \" Kiwi\" , \"Strawberry\" , \"Malta\"];\n",
    "print(\"The Length Of An Array(fruits) Is: \", len(fruits));"
   ]
  },
  {
   "cell_type": "code",
   "execution_count": 39,
   "id": "534c5c3a",
   "metadata": {},
   "outputs": [
    {
     "name": "stdout",
     "output_type": "stream",
     "text": [
      "[8, 9, 9, 15, 21, 33, 36, 45, 50, 52, 55, 60]\n",
      "The Largest Number In The Array(numbers) Is:  60\n"
     ]
    }
   ],
   "source": [
    "# WRITE A PYTHON PROGRAM TO GET THE LARGEST NUMBER FROM THE NUMERIC LIST\n",
    "numbers = [15, 21, 9, 8, 45, 50, 36, 9, 52, 33, 55, 60];\n",
    "numbers.sort();\n",
    "print(numbers);\n",
    "print(\"The Largest Number In The Array(numbers) Is: \", max(numbers));"
   ]
  },
  {
   "cell_type": "code",
   "execution_count": 41,
   "id": "46ee1f77",
   "metadata": {},
   "outputs": [
    {
     "name": "stdout",
     "output_type": "stream",
     "text": [
      "[0, 1, 1, 2, 2, 3, 4, 5, 7, 10, 15, 45]\n",
      "The Sum Of All The Elements In An Array(number1) Is:  95\n"
     ]
    }
   ],
   "source": [
    "# WRITE A PYTHON PROGRAM TO PRINT THE SUM OF ALL NUMERIC VALUES IN THE LIST\n",
    "number1 = [2, 5, 7, 1, 3, 4, 2, 0, 1, 15, 45, 10];\n",
    "number1.sort();\n",
    "print(number1);\n",
    "print(\"The Sum Of All The Elements In An Array(number1) Is: \", sum(number1));"
   ]
  },
  {
   "cell_type": "code",
   "execution_count": 46,
   "id": "46f988ec",
   "metadata": {},
   "outputs": [
    {
     "name": "stdout",
     "output_type": "stream",
     "text": [
      "1\n",
      "1\n",
      "2\n",
      "3\n"
     ]
    }
   ],
   "source": [
    "# TAKE A LIST FOR EXAMPLE A = [1,1,2,3,5,8,13,21,35,55,89]. WRITE A PYTHON PROGRAM THAT PRINTS ALL THE ELEMENTS IN THE LIST THAT ARE LESS THEN 5.\n",
    "a = [1,1,2,3,5,8,13,21,35,55,89];\n",
    "for i in a:\n",
    "    if i < 5:\n",
    "        print(i);"
   ]
  },
  {
   "cell_type": "code",
   "execution_count": null,
   "id": "bc931f85",
   "metadata": {},
   "outputs": [],
   "source": []
  }
 ],
 "metadata": {
  "kernelspec": {
   "display_name": "Python 3",
   "language": "python",
   "name": "python3"
  },
  "language_info": {
   "codemirror_mode": {
    "name": "ipython",
    "version": 3
   },
   "file_extension": ".py",
   "mimetype": "text/x-python",
   "name": "python",
   "nbconvert_exporter": "python",
   "pygments_lexer": "ipython3",
   "version": "3.8.8"
  }
 },
 "nbformat": 4,
 "nbformat_minor": 5
}
